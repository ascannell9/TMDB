{
 "cells": [
  {
   "cell_type": "markdown",
   "id": "57eba37e-7789-4068-bdcf-ae5e476dc79f",
   "metadata": {},
   "source": [
    "<p style=\"text-align:center;\">\n",
    "<img src=\"https://github.com/digital-futures-academy/DataScienceMasterResources/blob/main/Resources/datascience-notebook-header.png?raw=true\"\n",
    "     alt=\"DigitalFuturesLogo\"\n",
    "     style=\"float: center; margin-right: 10px;\" />\n",
    "</p>\n",
    "*Inspired by other DF notebooks"
   ]
  },
  {
   "cell_type": "markdown",
   "id": "0d11d351-1f4b-44f5-9cef-fd7fb29efe12",
   "metadata": {},
   "source": [
    "# TMDB Project\n",
    "\n",
    "## Presented by Andrew Scannell"
   ]
  },
  {
   "cell_type": "code",
   "execution_count": 2,
   "id": "0512ac7d-f3a9-4e99-892c-3b4f98b103d3",
   "metadata": {},
   "outputs": [],
   "source": [
    "# Importing relevant libraries\n",
    "import numpy as np\n",
    "import matplotlib.pyplot as plt\n",
    "import seaborn as sns\n",
    "import pandas as pd"
   ]
  },
  {
   "cell_type": "code",
   "execution_count": 3,
   "id": "82d78d32-44f8-497c-acfe-fafe8020bc42",
   "metadata": {
    "collapsed": true,
    "jupyter": {
     "outputs_hidden": true
    },
    "tags": []
   },
   "outputs": [
    {
     "data": {
      "text/html": [
       "<div>\n",
       "<style scoped>\n",
       "    .dataframe tbody tr th:only-of-type {\n",
       "        vertical-align: middle;\n",
       "    }\n",
       "\n",
       "    .dataframe tbody tr th {\n",
       "        vertical-align: top;\n",
       "    }\n",
       "\n",
       "    .dataframe thead th {\n",
       "        text-align: right;\n",
       "    }\n",
       "</style>\n",
       "<table border=\"1\" class=\"dataframe\">\n",
       "  <thead>\n",
       "    <tr style=\"text-align: right;\">\n",
       "      <th></th>\n",
       "      <th>budget</th>\n",
       "      <th>genres</th>\n",
       "      <th>homepage</th>\n",
       "      <th>id</th>\n",
       "      <th>keywords</th>\n",
       "      <th>original_language</th>\n",
       "      <th>original_title</th>\n",
       "      <th>overview</th>\n",
       "      <th>popularity</th>\n",
       "      <th>production_companies</th>\n",
       "      <th>production_countries</th>\n",
       "      <th>release_date</th>\n",
       "      <th>revenue</th>\n",
       "      <th>runtime</th>\n",
       "      <th>spoken_languages</th>\n",
       "      <th>status</th>\n",
       "      <th>tagline</th>\n",
       "      <th>title</th>\n",
       "      <th>vote_average</th>\n",
       "      <th>vote_count</th>\n",
       "    </tr>\n",
       "  </thead>\n",
       "  <tbody>\n",
       "    <tr>\n",
       "      <th>0</th>\n",
       "      <td>237000000</td>\n",
       "      <td>[{\"id\": 28, \"name\": \"Action\"}, {\"id\": 12, \"nam...</td>\n",
       "      <td>http://www.avatarmovie.com/</td>\n",
       "      <td>19995</td>\n",
       "      <td>[{\"id\": 1463, \"name\": \"culture clash\"}, {\"id\":...</td>\n",
       "      <td>en</td>\n",
       "      <td>Avatar</td>\n",
       "      <td>In the 22nd century, a paraplegic Marine is di...</td>\n",
       "      <td>150.437577</td>\n",
       "      <td>[{\"name\": \"Ingenious Film Partners\", \"id\": 289...</td>\n",
       "      <td>[{\"iso_3166_1\": \"US\", \"name\": \"United States o...</td>\n",
       "      <td>2009-12-10</td>\n",
       "      <td>2787965087</td>\n",
       "      <td>162.0</td>\n",
       "      <td>[{\"iso_639_1\": \"en\", \"name\": \"English\"}, {\"iso...</td>\n",
       "      <td>Released</td>\n",
       "      <td>Enter the World of Pandora.</td>\n",
       "      <td>Avatar</td>\n",
       "      <td>7.2</td>\n",
       "      <td>11800</td>\n",
       "    </tr>\n",
       "    <tr>\n",
       "      <th>1</th>\n",
       "      <td>300000000</td>\n",
       "      <td>[{\"id\": 12, \"name\": \"Adventure\"}, {\"id\": 14, \"...</td>\n",
       "      <td>http://disney.go.com/disneypictures/pirates/</td>\n",
       "      <td>285</td>\n",
       "      <td>[{\"id\": 270, \"name\": \"ocean\"}, {\"id\": 726, \"na...</td>\n",
       "      <td>en</td>\n",
       "      <td>Pirates of the Caribbean: At World's End</td>\n",
       "      <td>Captain Barbossa, long believed to be dead, ha...</td>\n",
       "      <td>139.082615</td>\n",
       "      <td>[{\"name\": \"Walt Disney Pictures\", \"id\": 2}, {\"...</td>\n",
       "      <td>[{\"iso_3166_1\": \"US\", \"name\": \"United States o...</td>\n",
       "      <td>2007-05-19</td>\n",
       "      <td>961000000</td>\n",
       "      <td>169.0</td>\n",
       "      <td>[{\"iso_639_1\": \"en\", \"name\": \"English\"}]</td>\n",
       "      <td>Released</td>\n",
       "      <td>At the end of the world, the adventure begins.</td>\n",
       "      <td>Pirates of the Caribbean: At World's End</td>\n",
       "      <td>6.9</td>\n",
       "      <td>4500</td>\n",
       "    </tr>\n",
       "    <tr>\n",
       "      <th>2</th>\n",
       "      <td>245000000</td>\n",
       "      <td>[{\"id\": 28, \"name\": \"Action\"}, {\"id\": 12, \"nam...</td>\n",
       "      <td>http://www.sonypictures.com/movies/spectre/</td>\n",
       "      <td>206647</td>\n",
       "      <td>[{\"id\": 470, \"name\": \"spy\"}, {\"id\": 818, \"name...</td>\n",
       "      <td>en</td>\n",
       "      <td>Spectre</td>\n",
       "      <td>A cryptic message from Bond’s past sends him o...</td>\n",
       "      <td>107.376788</td>\n",
       "      <td>[{\"name\": \"Columbia Pictures\", \"id\": 5}, {\"nam...</td>\n",
       "      <td>[{\"iso_3166_1\": \"GB\", \"name\": \"United Kingdom\"...</td>\n",
       "      <td>2015-10-26</td>\n",
       "      <td>880674609</td>\n",
       "      <td>148.0</td>\n",
       "      <td>[{\"iso_639_1\": \"fr\", \"name\": \"Fran\\u00e7ais\"},...</td>\n",
       "      <td>Released</td>\n",
       "      <td>A Plan No One Escapes</td>\n",
       "      <td>Spectre</td>\n",
       "      <td>6.3</td>\n",
       "      <td>4466</td>\n",
       "    </tr>\n",
       "    <tr>\n",
       "      <th>3</th>\n",
       "      <td>250000000</td>\n",
       "      <td>[{\"id\": 28, \"name\": \"Action\"}, {\"id\": 80, \"nam...</td>\n",
       "      <td>http://www.thedarkknightrises.com/</td>\n",
       "      <td>49026</td>\n",
       "      <td>[{\"id\": 849, \"name\": \"dc comics\"}, {\"id\": 853,...</td>\n",
       "      <td>en</td>\n",
       "      <td>The Dark Knight Rises</td>\n",
       "      <td>Following the death of District Attorney Harve...</td>\n",
       "      <td>112.312950</td>\n",
       "      <td>[{\"name\": \"Legendary Pictures\", \"id\": 923}, {\"...</td>\n",
       "      <td>[{\"iso_3166_1\": \"US\", \"name\": \"United States o...</td>\n",
       "      <td>2012-07-16</td>\n",
       "      <td>1084939099</td>\n",
       "      <td>165.0</td>\n",
       "      <td>[{\"iso_639_1\": \"en\", \"name\": \"English\"}]</td>\n",
       "      <td>Released</td>\n",
       "      <td>The Legend Ends</td>\n",
       "      <td>The Dark Knight Rises</td>\n",
       "      <td>7.6</td>\n",
       "      <td>9106</td>\n",
       "    </tr>\n",
       "    <tr>\n",
       "      <th>4</th>\n",
       "      <td>260000000</td>\n",
       "      <td>[{\"id\": 28, \"name\": \"Action\"}, {\"id\": 12, \"nam...</td>\n",
       "      <td>http://movies.disney.com/john-carter</td>\n",
       "      <td>49529</td>\n",
       "      <td>[{\"id\": 818, \"name\": \"based on novel\"}, {\"id\":...</td>\n",
       "      <td>en</td>\n",
       "      <td>John Carter</td>\n",
       "      <td>John Carter is a war-weary, former military ca...</td>\n",
       "      <td>43.926995</td>\n",
       "      <td>[{\"name\": \"Walt Disney Pictures\", \"id\": 2}]</td>\n",
       "      <td>[{\"iso_3166_1\": \"US\", \"name\": \"United States o...</td>\n",
       "      <td>2012-03-07</td>\n",
       "      <td>284139100</td>\n",
       "      <td>132.0</td>\n",
       "      <td>[{\"iso_639_1\": \"en\", \"name\": \"English\"}]</td>\n",
       "      <td>Released</td>\n",
       "      <td>Lost in our world, found in another.</td>\n",
       "      <td>John Carter</td>\n",
       "      <td>6.1</td>\n",
       "      <td>2124</td>\n",
       "    </tr>\n",
       "  </tbody>\n",
       "</table>\n",
       "</div>"
      ],
      "text/plain": [
       "      budget                                             genres  \\\n",
       "0  237000000  [{\"id\": 28, \"name\": \"Action\"}, {\"id\": 12, \"nam...   \n",
       "1  300000000  [{\"id\": 12, \"name\": \"Adventure\"}, {\"id\": 14, \"...   \n",
       "2  245000000  [{\"id\": 28, \"name\": \"Action\"}, {\"id\": 12, \"nam...   \n",
       "3  250000000  [{\"id\": 28, \"name\": \"Action\"}, {\"id\": 80, \"nam...   \n",
       "4  260000000  [{\"id\": 28, \"name\": \"Action\"}, {\"id\": 12, \"nam...   \n",
       "\n",
       "                                       homepage      id  \\\n",
       "0                   http://www.avatarmovie.com/   19995   \n",
       "1  http://disney.go.com/disneypictures/pirates/     285   \n",
       "2   http://www.sonypictures.com/movies/spectre/  206647   \n",
       "3            http://www.thedarkknightrises.com/   49026   \n",
       "4          http://movies.disney.com/john-carter   49529   \n",
       "\n",
       "                                            keywords original_language  \\\n",
       "0  [{\"id\": 1463, \"name\": \"culture clash\"}, {\"id\":...                en   \n",
       "1  [{\"id\": 270, \"name\": \"ocean\"}, {\"id\": 726, \"na...                en   \n",
       "2  [{\"id\": 470, \"name\": \"spy\"}, {\"id\": 818, \"name...                en   \n",
       "3  [{\"id\": 849, \"name\": \"dc comics\"}, {\"id\": 853,...                en   \n",
       "4  [{\"id\": 818, \"name\": \"based on novel\"}, {\"id\":...                en   \n",
       "\n",
       "                             original_title  \\\n",
       "0                                    Avatar   \n",
       "1  Pirates of the Caribbean: At World's End   \n",
       "2                                   Spectre   \n",
       "3                     The Dark Knight Rises   \n",
       "4                               John Carter   \n",
       "\n",
       "                                            overview  popularity  \\\n",
       "0  In the 22nd century, a paraplegic Marine is di...  150.437577   \n",
       "1  Captain Barbossa, long believed to be dead, ha...  139.082615   \n",
       "2  A cryptic message from Bond’s past sends him o...  107.376788   \n",
       "3  Following the death of District Attorney Harve...  112.312950   \n",
       "4  John Carter is a war-weary, former military ca...   43.926995   \n",
       "\n",
       "                                production_companies  \\\n",
       "0  [{\"name\": \"Ingenious Film Partners\", \"id\": 289...   \n",
       "1  [{\"name\": \"Walt Disney Pictures\", \"id\": 2}, {\"...   \n",
       "2  [{\"name\": \"Columbia Pictures\", \"id\": 5}, {\"nam...   \n",
       "3  [{\"name\": \"Legendary Pictures\", \"id\": 923}, {\"...   \n",
       "4        [{\"name\": \"Walt Disney Pictures\", \"id\": 2}]   \n",
       "\n",
       "                                production_countries release_date     revenue  \\\n",
       "0  [{\"iso_3166_1\": \"US\", \"name\": \"United States o...   2009-12-10  2787965087   \n",
       "1  [{\"iso_3166_1\": \"US\", \"name\": \"United States o...   2007-05-19   961000000   \n",
       "2  [{\"iso_3166_1\": \"GB\", \"name\": \"United Kingdom\"...   2015-10-26   880674609   \n",
       "3  [{\"iso_3166_1\": \"US\", \"name\": \"United States o...   2012-07-16  1084939099   \n",
       "4  [{\"iso_3166_1\": \"US\", \"name\": \"United States o...   2012-03-07   284139100   \n",
       "\n",
       "   runtime                                   spoken_languages    status  \\\n",
       "0    162.0  [{\"iso_639_1\": \"en\", \"name\": \"English\"}, {\"iso...  Released   \n",
       "1    169.0           [{\"iso_639_1\": \"en\", \"name\": \"English\"}]  Released   \n",
       "2    148.0  [{\"iso_639_1\": \"fr\", \"name\": \"Fran\\u00e7ais\"},...  Released   \n",
       "3    165.0           [{\"iso_639_1\": \"en\", \"name\": \"English\"}]  Released   \n",
       "4    132.0           [{\"iso_639_1\": \"en\", \"name\": \"English\"}]  Released   \n",
       "\n",
       "                                          tagline  \\\n",
       "0                     Enter the World of Pandora.   \n",
       "1  At the end of the world, the adventure begins.   \n",
       "2                           A Plan No One Escapes   \n",
       "3                                 The Legend Ends   \n",
       "4            Lost in our world, found in another.   \n",
       "\n",
       "                                      title  vote_average  vote_count  \n",
       "0                                    Avatar           7.2       11800  \n",
       "1  Pirates of the Caribbean: At World's End           6.9        4500  \n",
       "2                                   Spectre           6.3        4466  \n",
       "3                     The Dark Knight Rises           7.6        9106  \n",
       "4                               John Carter           6.1        2124  "
      ]
     },
     "execution_count": 3,
     "metadata": {},
     "output_type": "execute_result"
    }
   ],
   "source": [
    "# Importing the data into a pandas dataframe\n",
    "tmdb=pd.read_csv('TMDB_movies.csv')\n",
    "tmdb.head() # showing first 5 rows of dataframe"
   ]
  },
  {
   "cell_type": "markdown",
   "id": "bd0e5b99-71d7-4cc7-95e1-cbc4d2da20c0",
   "metadata": {},
   "source": [
    "# Movie Genres"
   ]
  },
  {
   "cell_type": "code",
   "execution_count": 4,
   "id": "1ccc966f-6475-4766-82a3-7b711ada7058",
   "metadata": {},
   "outputs": [],
   "source": [
    "# Create a new column with the main film genre by extracting the first word that begins with a capital letter from the genre column\n",
    "tmdb['Main Genre']=tmdb['genres'].str.extract(r'([A-Z]\\w+)') # using the format of str.extract() as shown in\n",
    "# https://pandas.pydata.org/docs/reference/api/pandas.Series.str.extract.html"
   ]
  },
  {
   "cell_type": "code",
   "execution_count": 5,
   "id": "ee532a33-05ce-47be-a6c7-552e5536fca7",
   "metadata": {},
   "outputs": [],
   "source": [
    "# Make this column as a category type\n",
    "tmdb[\"Main Genre\"]=tmdb['Main Genre'].astype('category')"
   ]
  },
  {
   "cell_type": "code",
   "execution_count": 6,
   "id": "244f17fd-7828-48b4-a011-7e1767f43001",
   "metadata": {
    "collapsed": true,
    "jupyter": {
     "outputs_hidden": true
    },
    "tags": []
   },
   "outputs": [
    {
     "data": {
      "text/plain": [
       "0            Action\n",
       "1         Adventure\n",
       "2            Action\n",
       "3            Action\n",
       "4            Action\n",
       "           ...     \n",
       "4798         Action\n",
       "4799         Comedy\n",
       "4800         Comedy\n",
       "4801            NaN\n",
       "4802    Documentary\n",
       "Name: Main Genre, Length: 4803, dtype: category\n",
       "Categories (20, object): ['Action', 'Adventure', 'Animation', 'Comedy', ..., 'TV', 'Thriller', 'War', 'Western']"
      ]
     },
     "execution_count": 6,
     "metadata": {},
     "output_type": "execute_result"
    }
   ],
   "source": [
    "tmdb['Main Genre'] # see that column now shows as category type"
   ]
  },
  {
   "cell_type": "code",
   "execution_count": 7,
   "id": "5d150164-005b-4da1-8815-a595fcbc2b8b",
   "metadata": {
    "collapsed": true,
    "jupyter": {
     "outputs_hidden": true
    },
    "tags": []
   },
   "outputs": [
    {
     "data": {
      "text/plain": [
       "['Action', 'Adventure', 'Fantasy', 'Animation', 'Science', ..., 'Documentary', 'Music', 'TV', NaN, 'Foreign']\n",
       "Length: 21\n",
       "Categories (20, object): ['Action', 'Adventure', 'Fantasy', 'Animation', ..., 'Documentary', 'Music', 'TV', 'Foreign']"
      ]
     },
     "execution_count": 7,
     "metadata": {},
     "output_type": "execute_result"
    }
   ],
   "source": [
    "tmdb['Main Genre'].unique() # see the unique category names"
   ]
  },
  {
   "cell_type": "code",
   "execution_count": 8,
   "id": "8accbcf9-4f3a-4c88-8eb6-1e1c17d09f03",
   "metadata": {
    "tags": []
   },
   "outputs": [],
   "source": [
    "# Add a 'None' category that will contain all entries that had no initial genre entry\n",
    "tmdb['Main Genre']=tmdb['Main Genre'].cat.add_categories('None')\n",
    "tmdb['Main Genre'].fillna(value='None',method=None,inplace=True) #fill the NaN or Null values with 'None' as a category\n",
    "# Was this category needed? Only 21 movies out of ~4800 and predominantly made up of outliers"
   ]
  },
  {
   "cell_type": "code",
   "execution_count": 9,
   "id": "491426a6-6586-48d0-a035-ba78db9f1f4f",
   "metadata": {},
   "outputs": [],
   "source": [
    "#Rename the 'Science' genre to 'Science Fiction' as the extraction only took first word\n",
    "tmdb['Main Genre']=tmdb['Main Genre'].cat.rename_categories({'Science':'Science Fiction'})"
   ]
  },
  {
   "cell_type": "code",
   "execution_count": 10,
   "id": "89959732-5ac0-4b68-a549-52517bb3e6db",
   "metadata": {
    "collapsed": true,
    "jupyter": {
     "outputs_hidden": true
    },
    "tags": []
   },
   "outputs": [
    {
     "data": {
      "text/plain": [
       "['Action', 'Adventure', 'Fantasy', 'Animation', 'Science Fiction', ..., 'Documentary', 'Music', 'TV', 'None', 'Foreign']\n",
       "Length: 21\n",
       "Categories (21, object): ['Action', 'Adventure', 'Fantasy', 'Animation', ..., 'Music', 'TV', 'None', 'Foreign']"
      ]
     },
     "execution_count": 10,
     "metadata": {},
     "output_type": "execute_result"
    }
   ],
   "source": [
    "tmdb['Main Genre'].unique() # see that there are now 21 categories including the 'None' category"
   ]
  },
  {
   "cell_type": "code",
   "execution_count": 25,
   "id": "50229294-71e1-4bd0-8205-8da25d5435b0",
   "metadata": {},
   "outputs": [
    {
     "data": {
      "image/png": "[encoded data removed]",
      "text/plain": [
       "<Figure size 720x504 with 1 Axes>"
      ]
     },
     "metadata": {
      "needs_background": "light"
     },
     "output_type": "display_data"
    }
   ],
   "source": [
    "# Plot counts of each main genre\n",
    "plt.figure(figsize=(10,7))\n",
    "sns.countplot(data=tmdb,x='Main Genre',palette='gist_ncar')\n",
    "plt.xticks(rotation=70)\n",
    "plt.title('Main Genres of all Films')\n",
    "plt.ylabel('Film Count')\n",
    "plt.grid(visible=True,axis='y',lw=0.5)\n",
    "plt.show()\n",
    "# There are 2 Foreign movies, not 0"
   ]
  },
  {
   "cell_type": "code",
   "execution_count": 140,
   "id": "cd444cd2-2e5a-4d9d-b7c5-f3f7e31c5fff",
   "metadata": {
    "jupyter": {
     "source_hidden": true
    },
    "tags": []
   },
   "outputs": [],
   "source": [
    "tmdb_cat=tmdb.groupby('Main Genre')[['vote_average']].mean() #group the data by the 'Main Genre' categories and find the mean \n",
    "# vote average for each genre \n",
    "tmdb_cat.reset_index(inplace=True) # Genre acts as index, so reset the index to be 0, 1, 2 etc"
   ]
  },
  {
   "cell_type": "code",
   "execution_count": 151,
   "id": "2c5cd231-c8b3-43f1-abcb-4f08c4b8b74e",
   "metadata": {
    "collapsed": true,
    "jupyter": {
     "outputs_hidden": true,
     "source_hidden": true
    },
    "tags": []
   },
   "outputs": [
    {
     "data": {
      "image/png": "[encoded data removed]",
      "text/plain": [
       "<Figure size 720x504 with 1 Axes>"
      ]
     },
     "metadata": {
      "needs_background": "light"
     },
     "output_type": "display_data"
    }
   ],
   "source": [
    "# Plot the mean vote average by genre as a bar graph\n",
    "plt.figure(figsize=(10,7))\n",
    "sns.barplot(data=tmdb_cat,x='Main Genre',y='vote_average')\n",
    "plt.xticks(rotation=70)\n",
    "plt.ylabel('Mean vote score')\n",
    "plt.title('Mean vote score per Genre')\n",
    "plt.ylim((2,8)) # limit y-axis between 2 and 8 to see values a bit more easily\n",
    "plt.show()"
   ]
  },
  {
   "cell_type": "markdown",
   "id": "5eab86de-00d4-43ac-9d1f-79ad2234635d",
   "metadata": {},
   "source": [
    "The **Foreign** movie genre has the highest average rating, although there are only 2 of them in this dataset\n",
    "<p> \n",
    "Otherwise the genres are all quite similar, sitting around an average rating of 6.\n",
    "\n",
    "Perhaps, the **None** genre/category could have been removed from the data as they are mainly outliers</p>"
   ]
  },
  {
   "cell_type": "markdown",
   "id": "eeb95817-fde2-4913-b801-7232baa070cd",
   "metadata": {},
   "source": [
    "# Profits"
   ]
  },
  {
   "cell_type": "code",
   "execution_count": 26,
   "id": "f092fac3-7695-4243-be35-fd85788732f8",
   "metadata": {},
   "outputs": [],
   "source": [
    "# Creating a new column called 'profit' which is the revenue minus the budget\n",
    "tmdb['profit']=tmdb['revenue']-tmdb['budget']"
   ]
  },
  {
   "cell_type": "code",
   "execution_count": 36,
   "id": "16c345a0-3569-473c-b653-18e63a5c6e6d",
   "metadata": {
    "collapsed": true,
    "jupyter": {
     "outputs_hidden": true
    },
    "tags": []
   },
   "outputs": [
    {
     "data": {
      "text/html": [
       "<div>\n",
       "<style scoped>\n",
       "    .dataframe tbody tr th:only-of-type {\n",
       "        vertical-align: middle;\n",
       "    }\n",
       "\n",
       "    .dataframe tbody tr th {\n",
       "        vertical-align: top;\n",
       "    }\n",
       "\n",
       "    .dataframe thead th {\n",
       "        text-align: right;\n",
       "    }\n",
       "</style>\n",
       "<table border=\"1\" class=\"dataframe\">\n",
       "  <thead>\n",
       "    <tr style=\"text-align: right;\">\n",
       "      <th></th>\n",
       "      <th>budget</th>\n",
       "      <th>genres</th>\n",
       "      <th>homepage</th>\n",
       "      <th>id</th>\n",
       "      <th>keywords</th>\n",
       "      <th>original_language</th>\n",
       "      <th>original_title</th>\n",
       "      <th>overview</th>\n",
       "      <th>popularity</th>\n",
       "      <th>production_companies</th>\n",
       "      <th>...</th>\n",
       "      <th>revenue</th>\n",
       "      <th>runtime</th>\n",
       "      <th>spoken_languages</th>\n",
       "      <th>status</th>\n",
       "      <th>tagline</th>\n",
       "      <th>title</th>\n",
       "      <th>vote_average</th>\n",
       "      <th>vote_count</th>\n",
       "      <th>Main Genre</th>\n",
       "      <th>profit</th>\n",
       "    </tr>\n",
       "  </thead>\n",
       "  <tbody>\n",
       "    <tr>\n",
       "      <th>0</th>\n",
       "      <td>237000000</td>\n",
       "      <td>[{\"id\": 28, \"name\": \"Action\"}, {\"id\": 12, \"nam...</td>\n",
       "      <td>http://www.avatarmovie.com/</td>\n",
       "      <td>19995</td>\n",
       "      <td>[{\"id\": 1463, \"name\": \"culture clash\"}, {\"id\":...</td>\n",
       "      <td>en</td>\n",
       "      <td>Avatar</td>\n",
       "      <td>In the 22nd century, a paraplegic Marine is di...</td>\n",
       "      <td>150.437577</td>\n",
       "      <td>[{\"name\": \"Ingenious Film Partners\", \"id\": 289...</td>\n",
       "      <td>...</td>\n",
       "      <td>2787965087</td>\n",
       "      <td>162.0</td>\n",
       "      <td>[{\"iso_639_1\": \"en\", \"name\": \"English\"}, {\"iso...</td>\n",
       "      <td>Released</td>\n",
       "      <td>Enter the World of Pandora.</td>\n",
       "      <td>Avatar</td>\n",
       "      <td>7.2</td>\n",
       "      <td>11800</td>\n",
       "      <td>Action</td>\n",
       "      <td>2550965087</td>\n",
       "    </tr>\n",
       "    <tr>\n",
       "      <th>25</th>\n",
       "      <td>200000000</td>\n",
       "      <td>[{\"id\": 18, \"name\": \"Drama\"}, {\"id\": 10749, \"n...</td>\n",
       "      <td>http://www.titanicmovie.com</td>\n",
       "      <td>597</td>\n",
       "      <td>[{\"id\": 2580, \"name\": \"shipwreck\"}, {\"id\": 298...</td>\n",
       "      <td>en</td>\n",
       "      <td>Titanic</td>\n",
       "      <td>84 years later, a 101-year-old woman named Ros...</td>\n",
       "      <td>100.025899</td>\n",
       "      <td>[{\"name\": \"Paramount Pictures\", \"id\": 4}, {\"na...</td>\n",
       "      <td>...</td>\n",
       "      <td>1845034188</td>\n",
       "      <td>194.0</td>\n",
       "      <td>[{\"iso_639_1\": \"en\", \"name\": \"English\"}, {\"iso...</td>\n",
       "      <td>Released</td>\n",
       "      <td>Nothing on Earth could come between them.</td>\n",
       "      <td>Titanic</td>\n",
       "      <td>7.5</td>\n",
       "      <td>7562</td>\n",
       "      <td>Drama</td>\n",
       "      <td>1645034188</td>\n",
       "    </tr>\n",
       "    <tr>\n",
       "      <th>28</th>\n",
       "      <td>150000000</td>\n",
       "      <td>[{\"id\": 28, \"name\": \"Action\"}, {\"id\": 12, \"nam...</td>\n",
       "      <td>http://www.jurassicworld.com/</td>\n",
       "      <td>135397</td>\n",
       "      <td>[{\"id\": 1299, \"name\": \"monster\"}, {\"id\": 1718,...</td>\n",
       "      <td>en</td>\n",
       "      <td>Jurassic World</td>\n",
       "      <td>Twenty-two years after the events of Jurassic ...</td>\n",
       "      <td>418.708552</td>\n",
       "      <td>[{\"name\": \"Universal Studios\", \"id\": 13}, {\"na...</td>\n",
       "      <td>...</td>\n",
       "      <td>1513528810</td>\n",
       "      <td>124.0</td>\n",
       "      <td>[{\"iso_639_1\": \"en\", \"name\": \"English\"}]</td>\n",
       "      <td>Released</td>\n",
       "      <td>The park is open.</td>\n",
       "      <td>Jurassic World</td>\n",
       "      <td>6.5</td>\n",
       "      <td>8662</td>\n",
       "      <td>Action</td>\n",
       "      <td>1363528810</td>\n",
       "    </tr>\n",
       "    <tr>\n",
       "      <th>44</th>\n",
       "      <td>190000000</td>\n",
       "      <td>[{\"id\": 28, \"name\": \"Action\"}]</td>\n",
       "      <td>http://www.furious7.com/</td>\n",
       "      <td>168259</td>\n",
       "      <td>[{\"id\": 830, \"name\": \"car race\"}, {\"id\": 3428,...</td>\n",
       "      <td>en</td>\n",
       "      <td>Furious 7</td>\n",
       "      <td>Deckard Shaw seeks revenge against Dominic Tor...</td>\n",
       "      <td>102.322217</td>\n",
       "      <td>[{\"name\": \"Universal Pictures\", \"id\": 33}, {\"n...</td>\n",
       "      <td>...</td>\n",
       "      <td>1506249360</td>\n",
       "      <td>137.0</td>\n",
       "      <td>[{\"iso_639_1\": \"en\", \"name\": \"English\"}]</td>\n",
       "      <td>Released</td>\n",
       "      <td>Vengeance Hits Home</td>\n",
       "      <td>Furious 7</td>\n",
       "      <td>7.3</td>\n",
       "      <td>4176</td>\n",
       "      <td>Action</td>\n",
       "      <td>1316249360</td>\n",
       "    </tr>\n",
       "    <tr>\n",
       "      <th>16</th>\n",
       "      <td>220000000</td>\n",
       "      <td>[{\"id\": 878, \"name\": \"Science Fiction\"}, {\"id\"...</td>\n",
       "      <td>http://marvel.com/avengers_movie/</td>\n",
       "      <td>24428</td>\n",
       "      <td>[{\"id\": 242, \"name\": \"new york\"}, {\"id\": 5539,...</td>\n",
       "      <td>en</td>\n",
       "      <td>The Avengers</td>\n",
       "      <td>When an unexpected enemy emerges and threatens...</td>\n",
       "      <td>144.448633</td>\n",
       "      <td>[{\"name\": \"Paramount Pictures\", \"id\": 4}, {\"na...</td>\n",
       "      <td>...</td>\n",
       "      <td>1519557910</td>\n",
       "      <td>143.0</td>\n",
       "      <td>[{\"iso_639_1\": \"en\", \"name\": \"English\"}]</td>\n",
       "      <td>Released</td>\n",
       "      <td>Some assembly required.</td>\n",
       "      <td>The Avengers</td>\n",
       "      <td>7.4</td>\n",
       "      <td>11776</td>\n",
       "      <td>Science Fiction</td>\n",
       "      <td>1299557910</td>\n",
       "    </tr>\n",
       "  </tbody>\n",
       "</table>\n",
       "<p>5 rows × 22 columns</p>\n",
       "</div>"
      ],
      "text/plain": [
       "       budget                                             genres  \\\n",
       "0   237000000  [{\"id\": 28, \"name\": \"Action\"}, {\"id\": 12, \"nam...   \n",
       "25  200000000  [{\"id\": 18, \"name\": \"Drama\"}, {\"id\": 10749, \"n...   \n",
       "28  150000000  [{\"id\": 28, \"name\": \"Action\"}, {\"id\": 12, \"nam...   \n",
       "44  190000000                     [{\"id\": 28, \"name\": \"Action\"}]   \n",
       "16  220000000  [{\"id\": 878, \"name\": \"Science Fiction\"}, {\"id\"...   \n",
       "\n",
       "                             homepage      id  \\\n",
       "0         http://www.avatarmovie.com/   19995   \n",
       "25        http://www.titanicmovie.com     597   \n",
       "28      http://www.jurassicworld.com/  135397   \n",
       "44           http://www.furious7.com/  168259   \n",
       "16  http://marvel.com/avengers_movie/   24428   \n",
       "\n",
       "                                             keywords original_language  \\\n",
       "0   [{\"id\": 1463, \"name\": \"culture clash\"}, {\"id\":...                en   \n",
       "25  [{\"id\": 2580, \"name\": \"shipwreck\"}, {\"id\": 298...                en   \n",
       "28  [{\"id\": 1299, \"name\": \"monster\"}, {\"id\": 1718,...                en   \n",
       "44  [{\"id\": 830, \"name\": \"car race\"}, {\"id\": 3428,...                en   \n",
       "16  [{\"id\": 242, \"name\": \"new york\"}, {\"id\": 5539,...                en   \n",
       "\n",
       "    original_title                                           overview  \\\n",
       "0           Avatar  In the 22nd century, a paraplegic Marine is di...   \n",
       "25         Titanic  84 years later, a 101-year-old woman named Ros...   \n",
       "28  Jurassic World  Twenty-two years after the events of Jurassic ...   \n",
       "44       Furious 7  Deckard Shaw seeks revenge against Dominic Tor...   \n",
       "16    The Avengers  When an unexpected enemy emerges and threatens...   \n",
       "\n",
       "    popularity                               production_companies  ...  \\\n",
       "0   150.437577  [{\"name\": \"Ingenious Film Partners\", \"id\": 289...  ...   \n",
       "25  100.025899  [{\"name\": \"Paramount Pictures\", \"id\": 4}, {\"na...  ...   \n",
       "28  418.708552  [{\"name\": \"Universal Studios\", \"id\": 13}, {\"na...  ...   \n",
       "44  102.322217  [{\"name\": \"Universal Pictures\", \"id\": 33}, {\"n...  ...   \n",
       "16  144.448633  [{\"name\": \"Paramount Pictures\", \"id\": 4}, {\"na...  ...   \n",
       "\n",
       "       revenue runtime                                   spoken_languages  \\\n",
       "0   2787965087   162.0  [{\"iso_639_1\": \"en\", \"name\": \"English\"}, {\"iso...   \n",
       "25  1845034188   194.0  [{\"iso_639_1\": \"en\", \"name\": \"English\"}, {\"iso...   \n",
       "28  1513528810   124.0           [{\"iso_639_1\": \"en\", \"name\": \"English\"}]   \n",
       "44  1506249360   137.0           [{\"iso_639_1\": \"en\", \"name\": \"English\"}]   \n",
       "16  1519557910   143.0           [{\"iso_639_1\": \"en\", \"name\": \"English\"}]   \n",
       "\n",
       "      status                                    tagline           title  \\\n",
       "0   Released                Enter the World of Pandora.          Avatar   \n",
       "25  Released  Nothing on Earth could come between them.         Titanic   \n",
       "28  Released                          The park is open.  Jurassic World   \n",
       "44  Released                        Vengeance Hits Home       Furious 7   \n",
       "16  Released                    Some assembly required.    The Avengers   \n",
       "\n",
       "   vote_average vote_count       Main Genre      profit  \n",
       "0           7.2      11800           Action  2550965087  \n",
       "25          7.5       7562            Drama  1645034188  \n",
       "28          6.5       8662           Action  1363528810  \n",
       "44          7.3       4176           Action  1316249360  \n",
       "16          7.4      11776  Science Fiction  1299557910  \n",
       "\n",
       "[5 rows x 22 columns]"
      ]
     },
     "execution_count": 36,
     "metadata": {},
     "output_type": "execute_result"
    }
   ],
   "source": [
    "tmdb_top_pro=tmdb.sort_values('profit',ascending=False)\n",
    "tmdb_top_pro.head()"
   ]
  },
  {
   "cell_type": "code",
   "execution_count": 96,
   "id": "1ebea112-f583-4e1f-b1bd-c70d994217c5",
   "metadata": {},
   "outputs": [
    {
     "data": {
      "image/png": "[encoded data removed]",
      "text/plain": [
       "<Figure size 720x504 with 1 Axes>"
      ]
     },
     "metadata": {
      "needs_background": "light"
     },
     "output_type": "display_data"
    }
   ],
   "source": [
    "plt.figure(figsize=(10,7))\n",
    "sns.barplot(data=tmdb_top_pro.head(),x='title',y='profit',\n",
    "            hue=['Action','Drama','Action','Action','Science Fiction'],palette='prism')\n",
    "plt.xlabel('Movie Title')\n",
    "plt.ylabel('Profit made')\n",
    "plt.title('Five most profitable movies')\n",
    "plt.show()"
   ]
  },
  {
   "cell_type": "code",
   "execution_count": 27,
   "id": "e7e3265b-2288-4f80-906e-e526ec964a39",
   "metadata": {},
   "outputs": [],
   "source": [
    "tmdb_pro=tmdb.groupby('Main Genre')[['profit']].mean() # group by the 'Main Genre' and find the mean profit for each genre\n",
    "tmdb_pro.reset_index(inplace=True) # reset index "
   ]
  },
  {
   "cell_type": "code",
   "execution_count": 28,
   "id": "bfebf7fe-4c52-4b23-af8b-00733e3321a6",
   "metadata": {},
   "outputs": [
    {
     "data": {
      "image/png": "[encoded data removed]",
      "text/plain": [
       "<Figure size 720x504 with 1 Axes>"
      ]
     },
     "metadata": {
      "needs_background": "light"
     },
     "output_type": "display_data"
    }
   ],
   "source": [
    "# Plot average profits by genre as bar graph\n",
    "plt.figure(figsize=(10,7))\n",
    "sns.barplot(data=tmdb_pro,x='Main Genre',y='profit',palette='gist_ncar')\n",
    "plt.xticks(rotation=70)\n",
    "plt.ylim(-1e7,2e8) # Foreign, TV and None have negative profits (losses) but are small compared to the scale of the profits \n",
    "# made by other genres\n",
    "plt.ylabel('Average Profits')\n",
    "plt.title('Average Gross Profits by Genre')\n",
    "plt.grid(visible=True,axis='y',lw=0.5)\n",
    "plt.show()"
   ]
  },
  {
   "cell_type": "markdown",
   "id": "2465b841-3e8c-48ff-bef6-c8afaad2b415",
   "metadata": {},
   "source": [
    "<h3>Animation movies make the most profit on average</h3>\n",
    "<p>\n",
    "Could this be because they attract the largest audiences or have the highest budgets?\n",
    "</p>"
   ]
  },
  {
   "cell_type": "markdown",
   "id": "e1db9247-6bd1-40f0-badc-c926290aeef3",
   "metadata": {},
   "source": [
    "Although the **Foreign** movies are (on average) highly rated they are making losses!\n"
   ]
  },
  {
   "cell_type": "code",
   "execution_count": 29,
   "id": "d873f569-a0f9-470f-9132-d927861fbb25",
   "metadata": {},
   "outputs": [],
   "source": [
    "tmdb_votes=tmdb.groupby('Main Genre')[['popularity','vote_count']].mean() # group by 'Main Genre' and calculate mean popularity\n",
    "# and vote_count (as vote_count could be a good analogy for popularity)\n",
    "tmdb_votes.reset_index(inplace=True) # reset index"
   ]
  },
  {
   "cell_type": "code",
   "execution_count": 30,
   "id": "43d6e637-c252-40b4-a84d-857bfc21dd97",
   "metadata": {},
   "outputs": [
    {
     "data": {
      "image/png": "[encoded data removed]",
      "text/plain": [
       "<Figure size 720x504 with 1 Axes>"
      ]
     },
     "metadata": {
      "needs_background": "light"
     },
     "output_type": "display_data"
    }
   ],
   "source": [
    "# Plot average popularity of each genre\n",
    "plt.figure(figsize=(10,7))\n",
    "sns.barplot(data=tmdb_votes,x='Main Genre',y='popularity',palette='gist_ncar')\n",
    "plt.ylabel('Average Popularity')\n",
    "plt.xticks(rotation=70)\n",
    "plt.title('Average Popularity of each Genre')\n",
    "plt.grid(visible=True,axis='y',lw=0.5)\n",
    "plt.show()\n",
    "# Foreign average popularity = 0.07 and None average popularity = 0.17"
   ]
  },
  {
   "cell_type": "code",
   "execution_count": 31,
   "id": "c77acb31-ef93-4e01-aa78-f5ef6e09bfd3",
   "metadata": {},
   "outputs": [
    {
     "data": {
      "image/png": "[encoded data removed]",
      "text/plain": [
       "<Figure size 720x504 with 1 Axes>"
      ]
     },
     "metadata": {
      "needs_background": "light"
     },
     "output_type": "display_data"
    }
   ],
   "source": [
    "# Plot average vote count per genre\n",
    "plt.figure(figsize=(10,7))\n",
    "sns.barplot(data=tmdb_votes,x='Main Genre',y='vote_count',palette='gist_ncar')\n",
    "plt.ylabel('Average Vote Count')\n",
    "plt.title('Average Vote Count per Genre')\n",
    "plt.grid(visible=True,axis='y',lw=0.5)\n",
    "plt.xticks(rotation=70)\n",
    "plt.show()\n",
    "# Foreign average vote count = 4 and None average vote count = 1.4"
   ]
  },
  {
   "cell_type": "markdown",
   "id": "289e219c-3e00-47f5-a7c1-f318f5002f71",
   "metadata": {},
   "source": [
    "<h3>Animation movies aren't the most popular genre! Science Fiction is!</h3>"
   ]
  },
  {
   "cell_type": "markdown",
   "id": "6445ccd2-b6e2-466f-a61f-8a0ec115b9b9",
   "metadata": {},
   "source": [
    "It is also seen that **Foreign** movies are not very popular, which could explain why they make losses.\n",
    "\n"
   ]
  },
  {
   "cell_type": "code",
   "execution_count": 32,
   "id": "8ed82942-b31b-4413-beba-2f6904a2718b",
   "metadata": {},
   "outputs": [],
   "source": [
    "tmdb_budget=tmdb.groupby('Main Genre')[['budget']].mean() # group by 'Main Genre' and calculate mean budget per genre\n",
    "tmdb_budget.reset_index(inplace=True) # reset the index"
   ]
  },
  {
   "cell_type": "code",
   "execution_count": 33,
   "id": "25ce7efb-267e-4f1b-b358-7b7966cd139c",
   "metadata": {},
   "outputs": [
    {
     "data": {
      "image/png": "[encoded data removed]",
      "text/plain": [
       "<Figure size 720x504 with 1 Axes>"
      ]
     },
     "metadata": {
      "needs_background": "light"
     },
     "output_type": "display_data"
    }
   ],
   "source": [
    "# Plot average budget for each genre\n",
    "plt.figure(figsize=(10,7))\n",
    "sns.barplot(data=tmdb_budget,x='Main Genre',y='budget',palette='gist_ncar')\n",
    "plt.ylabel('Average Budget')\n",
    "plt.title('Average Budget per Genre')\n",
    "plt.xticks(rotation=70)\n",
    "plt.grid(visible=True,axis='y',lw=0.5)\n",
    "plt.show()\n",
    "# Foreign, TV and None have average budgets below 1 million\n",
    "# These plots also show that the None category is most likely not needed in this analysis"
   ]
  },
  {
   "cell_type": "markdown",
   "id": "e5db9ec3-704c-48fe-9fe7-8a7946fd5d77",
   "metadata": {},
   "source": [
    "<h3>Animation movies do have the largest budgets<h3>"
   ]
  },
  {
   "cell_type": "code",
   "execution_count": 99,
   "id": "43e31087-eb26-453b-9721-f64d82afa521",
   "metadata": {
    "collapsed": true,
    "jupyter": {
     "outputs_hidden": true
    },
    "tags": []
   },
   "outputs": [
    {
     "data": {
      "text/html": [
       "<div>\n",
       "<style scoped>\n",
       "    .dataframe tbody tr th:only-of-type {\n",
       "        vertical-align: middle;\n",
       "    }\n",
       "\n",
       "    .dataframe tbody tr th {\n",
       "        vertical-align: top;\n",
       "    }\n",
       "\n",
       "    .dataframe thead th {\n",
       "        text-align: right;\n",
       "    }\n",
       "</style>\n",
       "<table border=\"1\" class=\"dataframe\">\n",
       "  <thead>\n",
       "    <tr style=\"text-align: right;\">\n",
       "      <th></th>\n",
       "      <th>budget</th>\n",
       "      <th>genres</th>\n",
       "      <th>homepage</th>\n",
       "      <th>id</th>\n",
       "      <th>keywords</th>\n",
       "      <th>original_language</th>\n",
       "      <th>original_title</th>\n",
       "      <th>overview</th>\n",
       "      <th>popularity</th>\n",
       "      <th>production_companies</th>\n",
       "      <th>...</th>\n",
       "      <th>revenue</th>\n",
       "      <th>runtime</th>\n",
       "      <th>spoken_languages</th>\n",
       "      <th>status</th>\n",
       "      <th>tagline</th>\n",
       "      <th>title</th>\n",
       "      <th>vote_average</th>\n",
       "      <th>vote_count</th>\n",
       "      <th>Main Genre</th>\n",
       "      <th>profit</th>\n",
       "    </tr>\n",
       "  </thead>\n",
       "  <tbody>\n",
       "    <tr>\n",
       "      <th>17</th>\n",
       "      <td>380000000</td>\n",
       "      <td>[{\"id\": 12, \"name\": \"Adventure\"}, {\"id\": 28, \"...</td>\n",
       "      <td>http://disney.go.com/pirates/index-on-stranger...</td>\n",
       "      <td>1865</td>\n",
       "      <td>[{\"id\": 658, \"name\": \"sea\"}, {\"id\": 1316, \"nam...</td>\n",
       "      <td>en</td>\n",
       "      <td>Pirates of the Caribbean: On Stranger Tides</td>\n",
       "      <td>Captain Jack Sparrow crosses paths with a woma...</td>\n",
       "      <td>135.413856</td>\n",
       "      <td>[{\"name\": \"Walt Disney Pictures\", \"id\": 2}, {\"...</td>\n",
       "      <td>...</td>\n",
       "      <td>1045713802</td>\n",
       "      <td>136.0</td>\n",
       "      <td>[{\"iso_639_1\": \"en\", \"name\": \"English\"}, {\"iso...</td>\n",
       "      <td>Released</td>\n",
       "      <td>Live Forever Or Die Trying.</td>\n",
       "      <td>Pirates of the Caribbean: On Stranger Tides</td>\n",
       "      <td>6.4</td>\n",
       "      <td>4948</td>\n",
       "      <td>Adventure</td>\n",
       "      <td>665713802</td>\n",
       "    </tr>\n",
       "    <tr>\n",
       "      <th>1</th>\n",
       "      <td>300000000</td>\n",
       "      <td>[{\"id\": 12, \"name\": \"Adventure\"}, {\"id\": 14, \"...</td>\n",
       "      <td>http://disney.go.com/disneypictures/pirates/</td>\n",
       "      <td>285</td>\n",
       "      <td>[{\"id\": 270, \"name\": \"ocean\"}, {\"id\": 726, \"na...</td>\n",
       "      <td>en</td>\n",
       "      <td>Pirates of the Caribbean: At World's End</td>\n",
       "      <td>Captain Barbossa, long believed to be dead, ha...</td>\n",
       "      <td>139.082615</td>\n",
       "      <td>[{\"name\": \"Walt Disney Pictures\", \"id\": 2}, {\"...</td>\n",
       "      <td>...</td>\n",
       "      <td>961000000</td>\n",
       "      <td>169.0</td>\n",
       "      <td>[{\"iso_639_1\": \"en\", \"name\": \"English\"}]</td>\n",
       "      <td>Released</td>\n",
       "      <td>At the end of the world, the adventure begins.</td>\n",
       "      <td>Pirates of the Caribbean: At World's End</td>\n",
       "      <td>6.9</td>\n",
       "      <td>4500</td>\n",
       "      <td>Adventure</td>\n",
       "      <td>661000000</td>\n",
       "    </tr>\n",
       "    <tr>\n",
       "      <th>7</th>\n",
       "      <td>280000000</td>\n",
       "      <td>[{\"id\": 28, \"name\": \"Action\"}, {\"id\": 12, \"nam...</td>\n",
       "      <td>http://marvel.com/movies/movie/193/avengers_ag...</td>\n",
       "      <td>99861</td>\n",
       "      <td>[{\"id\": 8828, \"name\": \"marvel comic\"}, {\"id\": ...</td>\n",
       "      <td>en</td>\n",
       "      <td>Avengers: Age of Ultron</td>\n",
       "      <td>When Tony Stark tries to jumpstart a dormant p...</td>\n",
       "      <td>134.279229</td>\n",
       "      <td>[{\"name\": \"Marvel Studios\", \"id\": 420}, {\"name...</td>\n",
       "      <td>...</td>\n",
       "      <td>1405403694</td>\n",
       "      <td>141.0</td>\n",
       "      <td>[{\"iso_639_1\": \"en\", \"name\": \"English\"}]</td>\n",
       "      <td>Released</td>\n",
       "      <td>A New Age Has Come.</td>\n",
       "      <td>Avengers: Age of Ultron</td>\n",
       "      <td>7.3</td>\n",
       "      <td>6767</td>\n",
       "      <td>Action</td>\n",
       "      <td>1125403694</td>\n",
       "    </tr>\n",
       "    <tr>\n",
       "      <th>10</th>\n",
       "      <td>270000000</td>\n",
       "      <td>[{\"id\": 12, \"name\": \"Adventure\"}, {\"id\": 14, \"...</td>\n",
       "      <td>http://www.superman.com</td>\n",
       "      <td>1452</td>\n",
       "      <td>[{\"id\": 83, \"name\": \"saving the world\"}, {\"id\"...</td>\n",
       "      <td>en</td>\n",
       "      <td>Superman Returns</td>\n",
       "      <td>Superman returns to discover his 5-year absenc...</td>\n",
       "      <td>57.925623</td>\n",
       "      <td>[{\"name\": \"DC Comics\", \"id\": 429}, {\"name\": \"L...</td>\n",
       "      <td>...</td>\n",
       "      <td>391081192</td>\n",
       "      <td>154.0</td>\n",
       "      <td>[{\"iso_639_1\": \"en\", \"name\": \"English\"}, {\"iso...</td>\n",
       "      <td>Released</td>\n",
       "      <td>NaN</td>\n",
       "      <td>Superman Returns</td>\n",
       "      <td>5.4</td>\n",
       "      <td>1400</td>\n",
       "      <td>Adventure</td>\n",
       "      <td>121081192</td>\n",
       "    </tr>\n",
       "    <tr>\n",
       "      <th>4</th>\n",
       "      <td>260000000</td>\n",
       "      <td>[{\"id\": 28, \"name\": \"Action\"}, {\"id\": 12, \"nam...</td>\n",
       "      <td>http://movies.disney.com/john-carter</td>\n",
       "      <td>49529</td>\n",
       "      <td>[{\"id\": 818, \"name\": \"based on novel\"}, {\"id\":...</td>\n",
       "      <td>en</td>\n",
       "      <td>John Carter</td>\n",
       "      <td>John Carter is a war-weary, former military ca...</td>\n",
       "      <td>43.926995</td>\n",
       "      <td>[{\"name\": \"Walt Disney Pictures\", \"id\": 2}]</td>\n",
       "      <td>...</td>\n",
       "      <td>284139100</td>\n",
       "      <td>132.0</td>\n",
       "      <td>[{\"iso_639_1\": \"en\", \"name\": \"English\"}]</td>\n",
       "      <td>Released</td>\n",
       "      <td>Lost in our world, found in another.</td>\n",
       "      <td>John Carter</td>\n",
       "      <td>6.1</td>\n",
       "      <td>2124</td>\n",
       "      <td>Action</td>\n",
       "      <td>24139100</td>\n",
       "    </tr>\n",
       "  </tbody>\n",
       "</table>\n",
       "<p>5 rows × 22 columns</p>\n",
       "</div>"
      ],
      "text/plain": [
       "       budget                                             genres  \\\n",
       "17  380000000  [{\"id\": 12, \"name\": \"Adventure\"}, {\"id\": 28, \"...   \n",
       "1   300000000  [{\"id\": 12, \"name\": \"Adventure\"}, {\"id\": 14, \"...   \n",
       "7   280000000  [{\"id\": 28, \"name\": \"Action\"}, {\"id\": 12, \"nam...   \n",
       "10  270000000  [{\"id\": 12, \"name\": \"Adventure\"}, {\"id\": 14, \"...   \n",
       "4   260000000  [{\"id\": 28, \"name\": \"Action\"}, {\"id\": 12, \"nam...   \n",
       "\n",
       "                                             homepage     id  \\\n",
       "17  http://disney.go.com/pirates/index-on-stranger...   1865   \n",
       "1        http://disney.go.com/disneypictures/pirates/    285   \n",
       "7   http://marvel.com/movies/movie/193/avengers_ag...  99861   \n",
       "10                            http://www.superman.com   1452   \n",
       "4                http://movies.disney.com/john-carter  49529   \n",
       "\n",
       "                                             keywords original_language  \\\n",
       "17  [{\"id\": 658, \"name\": \"sea\"}, {\"id\": 1316, \"nam...                en   \n",
       "1   [{\"id\": 270, \"name\": \"ocean\"}, {\"id\": 726, \"na...                en   \n",
       "7   [{\"id\": 8828, \"name\": \"marvel comic\"}, {\"id\": ...                en   \n",
       "10  [{\"id\": 83, \"name\": \"saving the world\"}, {\"id\"...                en   \n",
       "4   [{\"id\": 818, \"name\": \"based on novel\"}, {\"id\":...                en   \n",
       "\n",
       "                                 original_title  \\\n",
       "17  Pirates of the Caribbean: On Stranger Tides   \n",
       "1      Pirates of the Caribbean: At World's End   \n",
       "7                       Avengers: Age of Ultron   \n",
       "10                             Superman Returns   \n",
       "4                                   John Carter   \n",
       "\n",
       "                                             overview  popularity  \\\n",
       "17  Captain Jack Sparrow crosses paths with a woma...  135.413856   \n",
       "1   Captain Barbossa, long believed to be dead, ha...  139.082615   \n",
       "7   When Tony Stark tries to jumpstart a dormant p...  134.279229   \n",
       "10  Superman returns to discover his 5-year absenc...   57.925623   \n",
       "4   John Carter is a war-weary, former military ca...   43.926995   \n",
       "\n",
       "                                 production_companies  ...     revenue  \\\n",
       "17  [{\"name\": \"Walt Disney Pictures\", \"id\": 2}, {\"...  ...  1045713802   \n",
       "1   [{\"name\": \"Walt Disney Pictures\", \"id\": 2}, {\"...  ...   961000000   \n",
       "7   [{\"name\": \"Marvel Studios\", \"id\": 420}, {\"name...  ...  1405403694   \n",
       "10  [{\"name\": \"DC Comics\", \"id\": 429}, {\"name\": \"L...  ...   391081192   \n",
       "4         [{\"name\": \"Walt Disney Pictures\", \"id\": 2}]  ...   284139100   \n",
       "\n",
       "   runtime                                   spoken_languages    status  \\\n",
       "17   136.0  [{\"iso_639_1\": \"en\", \"name\": \"English\"}, {\"iso...  Released   \n",
       "1    169.0           [{\"iso_639_1\": \"en\", \"name\": \"English\"}]  Released   \n",
       "7    141.0           [{\"iso_639_1\": \"en\", \"name\": \"English\"}]  Released   \n",
       "10   154.0  [{\"iso_639_1\": \"en\", \"name\": \"English\"}, {\"iso...  Released   \n",
       "4    132.0           [{\"iso_639_1\": \"en\", \"name\": \"English\"}]  Released   \n",
       "\n",
       "                                           tagline  \\\n",
       "17                     Live Forever Or Die Trying.   \n",
       "1   At the end of the world, the adventure begins.   \n",
       "7                              A New Age Has Come.   \n",
       "10                                             NaN   \n",
       "4             Lost in our world, found in another.   \n",
       "\n",
       "                                          title vote_average vote_count  \\\n",
       "17  Pirates of the Caribbean: On Stranger Tides          6.4       4948   \n",
       "1      Pirates of the Caribbean: At World's End          6.9       4500   \n",
       "7                       Avengers: Age of Ultron          7.3       6767   \n",
       "10                             Superman Returns          5.4       1400   \n",
       "4                                   John Carter          6.1       2124   \n",
       "\n",
       "    Main Genre      profit  \n",
       "17   Adventure   665713802  \n",
       "1    Adventure   661000000  \n",
       "7       Action  1125403694  \n",
       "10   Adventure   121081192  \n",
       "4       Action    24139100  \n",
       "\n",
       "[5 rows x 22 columns]"
      ]
     },
     "execution_count": 99,
     "metadata": {},
     "output_type": "execute_result"
    }
   ],
   "source": [
    "tmdb_top_budget=tmdb.sort_values('budget',ascending=False)\n",
    "tmdb_top_budget.head()"
   ]
  },
  {
   "cell_type": "code",
   "execution_count": 106,
   "id": "1b3bd007-b553-4b4a-85ab-c127030ae44c",
   "metadata": {},
   "outputs": [
    {
     "data": {
      "image/png": "[encoded data removed]",
      "text/plain": [
       "<Figure size 720x504 with 1 Axes>"
      ]
     },
     "metadata": {
      "needs_background": "light"
     },
     "output_type": "display_data"
    }
   ],
   "source": [
    "plt.figure(figsize=(10,7))\n",
    "sns.barplot(data=tmdb_top_budget.head(),x='title',y='budget',\n",
    "            hue=['Adventure','Adventure','Action','Adventure','Action'],palette='prism')\n",
    "plt.xticks(rotation=30)\n",
    "plt.title('Top five largest budget movies')\n",
    "plt.xlabel('Movie Title')\n",
    "plt.ylabel('Movie Budget')\n",
    "plt.show()"
   ]
  },
  {
   "cell_type": "markdown",
   "id": "acf79234-ef81-4e57-a144-f1bf49398f42",
   "metadata": {},
   "source": [
    "### ....on average"
   ]
  },
  {
   "cell_type": "markdown",
   "id": "f92170e9-b651-42dd-97a6-c1ec2f75876c",
   "metadata": {},
   "source": [
    "<h3>Are budget and profit correlated?</h3> "
   ]
  },
  {
   "cell_type": "markdown",
   "id": "323b02ce-ddcb-4b08-a9c2-dba69bcf7bef",
   "metadata": {},
   "source": [
    "To answer this we must look at the correlations..."
   ]
  },
  {
   "cell_type": "markdown",
   "id": "42cecf0d-ad8f-4f7a-8643-180837ddad20",
   "metadata": {},
   "source": [
    "# Correlations"
   ]
  },
  {
   "cell_type": "code",
   "execution_count": 34,
   "id": "1f109c16-46e4-4721-8de7-68d1f66bd172",
   "metadata": {
    "collapsed": true,
    "jupyter": {
     "outputs_hidden": true
    },
    "tags": []
   },
   "outputs": [
    {
     "data": {
      "text/html": [
       "<div>\n",
       "<style scoped>\n",
       "    .dataframe tbody tr th:only-of-type {\n",
       "        vertical-align: middle;\n",
       "    }\n",
       "\n",
       "    .dataframe tbody tr th {\n",
       "        vertical-align: top;\n",
       "    }\n",
       "\n",
       "    .dataframe thead th {\n",
       "        text-align: right;\n",
       "    }\n",
       "</style>\n",
       "<table border=\"1\" class=\"dataframe\">\n",
       "  <thead>\n",
       "    <tr style=\"text-align: right;\">\n",
       "      <th></th>\n",
       "      <th>budget</th>\n",
       "      <th>id</th>\n",
       "      <th>popularity</th>\n",
       "      <th>revenue</th>\n",
       "      <th>runtime</th>\n",
       "      <th>vote_average</th>\n",
       "      <th>vote_count</th>\n",
       "      <th>profit</th>\n",
       "    </tr>\n",
       "  </thead>\n",
       "  <tbody>\n",
       "    <tr>\n",
       "      <th>budget</th>\n",
       "      <td>1.000000</td>\n",
       "      <td>-0.089377</td>\n",
       "      <td>0.505414</td>\n",
       "      <td>0.730823</td>\n",
       "      <td>0.269851</td>\n",
       "      <td>0.093146</td>\n",
       "      <td>0.593180</td>\n",
       "      <td>0.575852</td>\n",
       "    </tr>\n",
       "    <tr>\n",
       "      <th>id</th>\n",
       "      <td>-0.089377</td>\n",
       "      <td>1.000000</td>\n",
       "      <td>0.031202</td>\n",
       "      <td>-0.050425</td>\n",
       "      <td>-0.153536</td>\n",
       "      <td>-0.270595</td>\n",
       "      <td>-0.004128</td>\n",
       "      <td>-0.033629</td>\n",
       "    </tr>\n",
       "    <tr>\n",
       "      <th>popularity</th>\n",
       "      <td>0.505414</td>\n",
       "      <td>0.031202</td>\n",
       "      <td>1.000000</td>\n",
       "      <td>0.644724</td>\n",
       "      <td>0.225502</td>\n",
       "      <td>0.273952</td>\n",
       "      <td>0.778130</td>\n",
       "      <td>0.620854</td>\n",
       "    </tr>\n",
       "    <tr>\n",
       "      <th>revenue</th>\n",
       "      <td>0.730823</td>\n",
       "      <td>-0.050425</td>\n",
       "      <td>0.644724</td>\n",
       "      <td>1.000000</td>\n",
       "      <td>0.251093</td>\n",
       "      <td>0.197150</td>\n",
       "      <td>0.781487</td>\n",
       "      <td>0.978881</td>\n",
       "    </tr>\n",
       "    <tr>\n",
       "      <th>runtime</th>\n",
       "      <td>0.269851</td>\n",
       "      <td>-0.153536</td>\n",
       "      <td>0.225502</td>\n",
       "      <td>0.251093</td>\n",
       "      <td>1.000000</td>\n",
       "      <td>0.375046</td>\n",
       "      <td>0.271944</td>\n",
       "      <td>0.219928</td>\n",
       "    </tr>\n",
       "    <tr>\n",
       "      <th>vote_average</th>\n",
       "      <td>0.093146</td>\n",
       "      <td>-0.270595</td>\n",
       "      <td>0.273952</td>\n",
       "      <td>0.197150</td>\n",
       "      <td>0.375046</td>\n",
       "      <td>1.000000</td>\n",
       "      <td>0.312997</td>\n",
       "      <td>0.208241</td>\n",
       "    </tr>\n",
       "    <tr>\n",
       "      <th>vote_count</th>\n",
       "      <td>0.593180</td>\n",
       "      <td>-0.004128</td>\n",
       "      <td>0.778130</td>\n",
       "      <td>0.781487</td>\n",
       "      <td>0.271944</td>\n",
       "      <td>0.312997</td>\n",
       "      <td>1.000000</td>\n",
       "      <td>0.758379</td>\n",
       "    </tr>\n",
       "    <tr>\n",
       "      <th>profit</th>\n",
       "      <td>0.575852</td>\n",
       "      <td>-0.033629</td>\n",
       "      <td>0.620854</td>\n",
       "      <td>0.978881</td>\n",
       "      <td>0.219928</td>\n",
       "      <td>0.208241</td>\n",
       "      <td>0.758379</td>\n",
       "      <td>1.000000</td>\n",
       "    </tr>\n",
       "  </tbody>\n",
       "</table>\n",
       "</div>"
      ],
      "text/plain": [
       "                budget        id  popularity   revenue   runtime  \\\n",
       "budget        1.000000 -0.089377    0.505414  0.730823  0.269851   \n",
       "id           -0.089377  1.000000    0.031202 -0.050425 -0.153536   \n",
       "popularity    0.505414  0.031202    1.000000  0.644724  0.225502   \n",
       "revenue       0.730823 -0.050425    0.644724  1.000000  0.251093   \n",
       "runtime       0.269851 -0.153536    0.225502  0.251093  1.000000   \n",
       "vote_average  0.093146 -0.270595    0.273952  0.197150  0.375046   \n",
       "vote_count    0.593180 -0.004128    0.778130  0.781487  0.271944   \n",
       "profit        0.575852 -0.033629    0.620854  0.978881  0.219928   \n",
       "\n",
       "              vote_average  vote_count    profit  \n",
       "budget            0.093146    0.593180  0.575852  \n",
       "id               -0.270595   -0.004128 -0.033629  \n",
       "popularity        0.273952    0.778130  0.620854  \n",
       "revenue           0.197150    0.781487  0.978881  \n",
       "runtime           0.375046    0.271944  0.219928  \n",
       "vote_average      1.000000    0.312997  0.208241  \n",
       "vote_count        0.312997    1.000000  0.758379  \n",
       "profit            0.208241    0.758379  1.000000  "
      ]
     },
     "execution_count": 34,
     "metadata": {},
     "output_type": "execute_result"
    }
   ],
   "source": [
    "# Pandas correlation function/method to calculate all correlations in the dataframe (of numeric columns)\n",
    "tmdb.corr()"
   ]
  },
  {
   "cell_type": "code",
   "execution_count": 35,
   "id": "9541069c-b175-4fb7-992b-e50806312413",
   "metadata": {},
   "outputs": [
    {
     "data": {
      "image/png": "[encoded data removed]",
      "text/plain": [
       "<Figure size 720x504 with 2 Axes>"
      ]
     },
     "metadata": {
      "needs_background": "light"
     },
     "output_type": "display_data"
    }
   ],
   "source": [
    "# Plot the correlations as a heatmap and annotate with the actual values as well\n",
    "plt.figure(figsize=(10,7))\n",
    "sns.heatmap(tmdb.corr(),annot=True,mask=np.triu(tmdb.corr()),vmin=-1,vmax=1,cmap='jet')\n",
    "plt.title('Heatmap of correlations')\n",
    "plt.show()"
   ]
  },
  {
   "cell_type": "markdown",
   "id": "5211a5f9-340a-4b28-9f89-f8def0fe214e",
   "metadata": {},
   "source": [
    "<h4> Budget and profit have quite a strong positive correlation (+0.58) </h4>\n"
   ]
  },
  {
   "cell_type": "markdown",
   "id": "8abe86c9-1069-4d2b-a487-a385b9b0746a",
   "metadata": {},
   "source": [
    "Although one might expect **budget** and **profit** to, perhaps, be slightly negatively correlated (a higher budget might reduce profit) but here we see that higher budget films make higher profits. There are potentially many reasons for this,\n",
    "* a bigger budget to spend on marketing/advertising\n",
    "* more 'a-list' actors could be hired\n",
    "* use state-of-the-art technology to draw audiences"
   ]
  },
  {
   "cell_type": "markdown",
   "id": "eba20c95-a056-4dfc-89a0-19f51eb2411b",
   "metadata": {},
   "source": [
    "Also see here that **vote_count** and **popularity** are strongly correlated, suggesting they are analogous and also strong indicators of how much profit a movie will make"
   ]
  },
  {
   "cell_type": "markdown",
   "id": "74a478db-c32f-45a7-9584-fc8396154122",
   "metadata": {},
   "source": [
    "###"
   ]
  },
  {
   "cell_type": "markdown",
   "id": "e29aa156-c0dc-4d84-b3e1-cb0f080b948b",
   "metadata": {},
   "source": [
    "# 2 Movies:"
   ]
  },
  {
   "cell_type": "markdown",
   "id": "a5c6d05f-d827-472d-b59e-791280e4ac28",
   "metadata": {},
   "source": [
    "### 1. The Shawshank Redemption"
   ]
  },
  {
   "cell_type": "markdown",
   "id": "5a35f51a-9b60-468f-a961-75516ef1252a",
   "metadata": {},
   "source": [
    "**The Shawshank Redemption** is the highest-rated movie with a significant number of votes - all movies with higher ratings have 2 or less votes - with 8205 in total and an average rating of <u>8.5</u>. Compared to an average vote count of 483.28 for the **Drama** genre and an average rating of <u>6.43</u>."
   ]
  },
  {
   "cell_type": "markdown",
   "id": "64f1b5a4-396b-4f1b-8dfd-238e9b91c4f1",
   "metadata": {},
   "source": [
    "It has a much higher than average popularity, with the **Drama** genre averaging 16.09 and **The Shawshank Redemption** at 136.75."
   ]
  },
  {
   "cell_type": "markdown",
   "id": "bde65b40-ee8b-4124-abad-653a06754969",
   "metadata": {},
   "source": [
    "It also has a slightly higher than average budget at \\\\$25,000,000 (average ~ \\\\$18,000,000) however, it has a lower than average profit at only just over \\\\$3,000,000 whereas the average **Drama** makes over \\\\$27,000,000."
   ]
  },
  {
   "cell_type": "markdown",
   "id": "5bb1256b-1ec6-4435-b440-459998e10a22",
   "metadata": {},
   "source": [
    "This is not what the **budget**-**profit** correlation would suggest should happen"
   ]
  },
  {
   "cell_type": "markdown",
   "id": "cc0cfd46-ff42-443c-a9e1-a467eedc2dee",
   "metadata": {},
   "source": [
    "### 2. Superbabies: Baby Geniuses 2"
   ]
  },
  {
   "cell_type": "markdown",
   "id": "613ced7f-fd11-47f9-9d03-4d0aeba337bf",
   "metadata": {},
   "source": [
    "**Superbabies: Baby Geniuses 2** is the lowest-rated movie with a significant number of votes. It has 35 votes and an average rating of <u>1.9</u>, which is a very low rating compared to most other comedies. The average **comedy** rating is just under <u>6</u>."
   ]
  },
  {
   "cell_type": "markdown",
   "id": "8f795ab2-a2fd-4483-ac19-83fbe98996b8",
   "metadata": {},
   "source": [
    "Despite its very low rating, it managed to make over \\\\$9,000,000 revenue (there is no budget listed for this movie). The first movie, **Baby Geniuses**, made over \\\\$34,000,000 in revenue and a profit of over \\\\$24,000,000."
   ]
  },
  {
   "cell_type": "markdown",
   "id": "f698c249-ad52-4529-9713-0a7b2a148229",
   "metadata": {},
   "source": [
    "**Superbabies: Baby Geniuses 2** was in fact very slightly more popular than the first one, although this did not translate into revenue or rating."
   ]
  },
  {
   "cell_type": "code",
   "execution_count": 293,
   "id": "ab21e153-0cd2-4aa3-938f-5458c10f6989",
   "metadata": {
    "collapsed": true,
    "jupyter": {
     "outputs_hidden": true,
     "source_hidden": true
    },
    "tags": []
   },
   "outputs": [
    {
     "data": {
      "text/html": [
       "<div>\n",
       "<style scoped>\n",
       "    .dataframe tbody tr th:only-of-type {\n",
       "        vertical-align: middle;\n",
       "    }\n",
       "\n",
       "    .dataframe tbody tr th {\n",
       "        vertical-align: top;\n",
       "    }\n",
       "\n",
       "    .dataframe thead th {\n",
       "        text-align: right;\n",
       "    }\n",
       "</style>\n",
       "<table border=\"1\" class=\"dataframe\">\n",
       "  <thead>\n",
       "    <tr style=\"text-align: right;\">\n",
       "      <th></th>\n",
       "      <th>budget</th>\n",
       "      <th>genres</th>\n",
       "      <th>homepage</th>\n",
       "      <th>id</th>\n",
       "      <th>keywords</th>\n",
       "      <th>original_language</th>\n",
       "      <th>original_title</th>\n",
       "      <th>overview</th>\n",
       "      <th>popularity</th>\n",
       "      <th>production_companies</th>\n",
       "      <th>...</th>\n",
       "      <th>revenue</th>\n",
       "      <th>runtime</th>\n",
       "      <th>spoken_languages</th>\n",
       "      <th>status</th>\n",
       "      <th>tagline</th>\n",
       "      <th>title</th>\n",
       "      <th>vote_average</th>\n",
       "      <th>vote_count</th>\n",
       "      <th>Main Genre</th>\n",
       "      <th>profit</th>\n",
       "    </tr>\n",
       "  </thead>\n",
       "  <tbody>\n",
       "    <tr>\n",
       "      <th>3519</th>\n",
       "      <td>0</td>\n",
       "      <td>[{\"id\": 35, \"name\": \"Comedy\"}]</td>\n",
       "      <td>NaN</td>\n",
       "      <td>89861</td>\n",
       "      <td>[{\"id\": 131, \"name\": \"italy\"}, {\"id\": 8250, \"n...</td>\n",
       "      <td>en</td>\n",
       "      <td>Stiff Upper Lips</td>\n",
       "      <td>Stiff Upper Lips is a broad parody of British ...</td>\n",
       "      <td>0.356495</td>\n",
       "      <td>[]</td>\n",
       "      <td>...</td>\n",
       "      <td>0</td>\n",
       "      <td>99.0</td>\n",
       "      <td>[{\"iso_639_1\": \"en\", \"name\": \"English\"}]</td>\n",
       "      <td>Released</td>\n",
       "      <td>NaN</td>\n",
       "      <td>Stiff Upper Lips</td>\n",
       "      <td>10.0</td>\n",
       "      <td>1</td>\n",
       "      <td>Comedy</td>\n",
       "      <td>0</td>\n",
       "    </tr>\n",
       "    <tr>\n",
       "      <th>4247</th>\n",
       "      <td>1</td>\n",
       "      <td>[{\"id\": 10749, \"name\": \"Romance\"}, {\"id\": 35, ...</td>\n",
       "      <td>NaN</td>\n",
       "      <td>361505</td>\n",
       "      <td>[]</td>\n",
       "      <td>en</td>\n",
       "      <td>Me You and Five Bucks</td>\n",
       "      <td>A womanizing yet lovable loser, Charlie, a wai...</td>\n",
       "      <td>0.094105</td>\n",
       "      <td>[]</td>\n",
       "      <td>...</td>\n",
       "      <td>0</td>\n",
       "      <td>90.0</td>\n",
       "      <td>[]</td>\n",
       "      <td>Released</td>\n",
       "      <td>A story about second, second chances</td>\n",
       "      <td>Me You and Five Bucks</td>\n",
       "      <td>10.0</td>\n",
       "      <td>2</td>\n",
       "      <td>Romance</td>\n",
       "      <td>-1</td>\n",
       "    </tr>\n",
       "    <tr>\n",
       "      <th>4045</th>\n",
       "      <td>0</td>\n",
       "      <td>[{\"id\": 35, \"name\": \"Comedy\"}, {\"id\": 18, \"nam...</td>\n",
       "      <td>NaN</td>\n",
       "      <td>78373</td>\n",
       "      <td>[{\"id\": 1415, \"name\": \"small town\"}, {\"id\": 15...</td>\n",
       "      <td>en</td>\n",
       "      <td>Dancer, Texas Pop. 81</td>\n",
       "      <td>Four guys, best friends, have grown up togethe...</td>\n",
       "      <td>0.376662</td>\n",
       "      <td>[{\"name\": \"HSX Films\", \"id\": 4714}, {\"name\": \"...</td>\n",
       "      <td>...</td>\n",
       "      <td>565592</td>\n",
       "      <td>97.0</td>\n",
       "      <td>[{\"iso_639_1\": \"en\", \"name\": \"English\"}]</td>\n",
       "      <td>Released</td>\n",
       "      <td>in the middle of nowhere they had everything</td>\n",
       "      <td>Dancer, Texas Pop. 81</td>\n",
       "      <td>10.0</td>\n",
       "      <td>1</td>\n",
       "      <td>Comedy</td>\n",
       "      <td>565592</td>\n",
       "    </tr>\n",
       "    <tr>\n",
       "      <th>4662</th>\n",
       "      <td>0</td>\n",
       "      <td>[{\"id\": 35, \"name\": \"Comedy\"}]</td>\n",
       "      <td>NaN</td>\n",
       "      <td>40963</td>\n",
       "      <td>[{\"id\": 10183, \"name\": \"independent film\"}]</td>\n",
       "      <td>en</td>\n",
       "      <td>Little Big Top</td>\n",
       "      <td>An aging out of work clown returns to his smal...</td>\n",
       "      <td>0.092100</td>\n",
       "      <td>[{\"name\": \"Fly High Films\", \"id\": 24248}]</td>\n",
       "      <td>...</td>\n",
       "      <td>0</td>\n",
       "      <td>0.0</td>\n",
       "      <td>[{\"iso_639_1\": \"en\", \"name\": \"English\"}]</td>\n",
       "      <td>Rumored</td>\n",
       "      <td>NaN</td>\n",
       "      <td>Little Big Top</td>\n",
       "      <td>10.0</td>\n",
       "      <td>1</td>\n",
       "      <td>Comedy</td>\n",
       "      <td>0</td>\n",
       "    </tr>\n",
       "    <tr>\n",
       "      <th>3992</th>\n",
       "      <td>0</td>\n",
       "      <td>[]</td>\n",
       "      <td>NaN</td>\n",
       "      <td>346081</td>\n",
       "      <td>[]</td>\n",
       "      <td>en</td>\n",
       "      <td>Sardaarji</td>\n",
       "      <td>A ghost hunter uses bottles to capture trouble...</td>\n",
       "      <td>0.296981</td>\n",
       "      <td>[]</td>\n",
       "      <td>...</td>\n",
       "      <td>0</td>\n",
       "      <td>0.0</td>\n",
       "      <td>[]</td>\n",
       "      <td>Released</td>\n",
       "      <td>NaN</td>\n",
       "      <td>Sardaarji</td>\n",
       "      <td>9.5</td>\n",
       "      <td>2</td>\n",
       "      <td>None</td>\n",
       "      <td>0</td>\n",
       "    </tr>\n",
       "    <tr>\n",
       "      <th>2386</th>\n",
       "      <td>0</td>\n",
       "      <td>[{\"id\": 37, \"name\": \"Western\"}, {\"id\": 28, \"na...</td>\n",
       "      <td>NaN</td>\n",
       "      <td>69848</td>\n",
       "      <td>[{\"id\": 6091, \"name\": \"war\"}, {\"id\": 6092, \"na...</td>\n",
       "      <td>en</td>\n",
       "      <td>One Man's Hero</td>\n",
       "      <td>One Man's Hero tells the little-known story of...</td>\n",
       "      <td>0.910529</td>\n",
       "      <td>[{\"name\": \"Filmax\", \"id\": 3631}, {\"name\": \"Sil...</td>\n",
       "      <td>...</td>\n",
       "      <td>0</td>\n",
       "      <td>121.0</td>\n",
       "      <td>[{\"iso_639_1\": \"en\", \"name\": \"English\"}]</td>\n",
       "      <td>Released</td>\n",
       "      <td>One man's hero is another man's traitor.</td>\n",
       "      <td>One Man's Hero</td>\n",
       "      <td>9.3</td>\n",
       "      <td>2</td>\n",
       "      <td>Western</td>\n",
       "      <td>0</td>\n",
       "    </tr>\n",
       "    <tr>\n",
       "      <th>2970</th>\n",
       "      <td>10500000</td>\n",
       "      <td>[{\"id\": 18, \"name\": \"Drama\"}, {\"id\": 35, \"name...</td>\n",
       "      <td>NaN</td>\n",
       "      <td>88641</td>\n",
       "      <td>[]</td>\n",
       "      <td>en</td>\n",
       "      <td>There Goes My Baby</td>\n",
       "      <td>A group of high school seniors meets in the su...</td>\n",
       "      <td>0.037073</td>\n",
       "      <td>[{\"name\": \"Nelson Entertainment\", \"id\": 365}]</td>\n",
       "      <td>...</td>\n",
       "      <td>123509</td>\n",
       "      <td>99.0</td>\n",
       "      <td>[{\"iso_639_1\": \"en\", \"name\": \"English\"}]</td>\n",
       "      <td>Released</td>\n",
       "      <td>NaN</td>\n",
       "      <td>There Goes My Baby</td>\n",
       "      <td>8.5</td>\n",
       "      <td>2</td>\n",
       "      <td>Drama</td>\n",
       "      <td>-10376491</td>\n",
       "    </tr>\n",
       "    <tr>\n",
       "      <th>1881</th>\n",
       "      <td>25000000</td>\n",
       "      <td>[{\"id\": 18, \"name\": \"Drama\"}, {\"id\": 80, \"name...</td>\n",
       "      <td>NaN</td>\n",
       "      <td>278</td>\n",
       "      <td>[{\"id\": 378, \"name\": \"prison\"}, {\"id\": 417, \"n...</td>\n",
       "      <td>en</td>\n",
       "      <td>The Shawshank Redemption</td>\n",
       "      <td>Framed in the 1940s for the double murder of h...</td>\n",
       "      <td>136.747729</td>\n",
       "      <td>[{\"name\": \"Castle Rock Entertainment\", \"id\": 97}]</td>\n",
       "      <td>...</td>\n",
       "      <td>28341469</td>\n",
       "      <td>142.0</td>\n",
       "      <td>[{\"iso_639_1\": \"en\", \"name\": \"English\"}]</td>\n",
       "      <td>Released</td>\n",
       "      <td>Fear can hold you prisoner. Hope can set you f...</td>\n",
       "      <td>The Shawshank Redemption</td>\n",
       "      <td>8.5</td>\n",
       "      <td>8205</td>\n",
       "      <td>Drama</td>\n",
       "      <td>3341469</td>\n",
       "    </tr>\n",
       "    <tr>\n",
       "      <th>2796</th>\n",
       "      <td>0</td>\n",
       "      <td>[{\"id\": 12, \"name\": \"Adventure\"}, {\"id\": 18, \"...</td>\n",
       "      <td>NaN</td>\n",
       "      <td>43867</td>\n",
       "      <td>[{\"id\": 1930, \"name\": \"kidnapping\"}, {\"id\": 25...</td>\n",
       "      <td>en</td>\n",
       "      <td>The Prisoner of Zenda</td>\n",
       "      <td>An Englishman on a Ruritarian holiday must imp...</td>\n",
       "      <td>4.021389</td>\n",
       "      <td>[{\"name\": \"United Artists\", \"id\": 60}, {\"name\"...</td>\n",
       "      <td>...</td>\n",
       "      <td>0</td>\n",
       "      <td>101.0</td>\n",
       "      <td>[{\"iso_639_1\": \"es\", \"name\": \"Espa\\u00f1ol\"}, ...</td>\n",
       "      <td>Released</td>\n",
       "      <td>The most thrilling swordfight ever filmed...</td>\n",
       "      <td>The Prisoner of Zenda</td>\n",
       "      <td>8.4</td>\n",
       "      <td>11</td>\n",
       "      <td>Adventure</td>\n",
       "      <td>0</td>\n",
       "    </tr>\n",
       "    <tr>\n",
       "      <th>3337</th>\n",
       "      <td>6000000</td>\n",
       "      <td>[{\"id\": 18, \"name\": \"Drama\"}, {\"id\": 80, \"name...</td>\n",
       "      <td>http://www.thegodfather.com/</td>\n",
       "      <td>238</td>\n",
       "      <td>[{\"id\": 131, \"name\": \"italy\"}, {\"id\": 699, \"na...</td>\n",
       "      <td>en</td>\n",
       "      <td>The Godfather</td>\n",
       "      <td>Spanning the years 1945 to 1955, a chronicle o...</td>\n",
       "      <td>143.659698</td>\n",
       "      <td>[{\"name\": \"Paramount Pictures\", \"id\": 4}, {\"na...</td>\n",
       "      <td>...</td>\n",
       "      <td>245066411</td>\n",
       "      <td>175.0</td>\n",
       "      <td>[{\"iso_639_1\": \"en\", \"name\": \"English\"}, {\"iso...</td>\n",
       "      <td>Released</td>\n",
       "      <td>An offer you can't refuse.</td>\n",
       "      <td>The Godfather</td>\n",
       "      <td>8.4</td>\n",
       "      <td>5893</td>\n",
       "      <td>Drama</td>\n",
       "      <td>239066411</td>\n",
       "    </tr>\n",
       "  </tbody>\n",
       "</table>\n",
       "<p>10 rows × 22 columns</p>\n",
       "</div>"
      ],
      "text/plain": [
       "        budget                                             genres  \\\n",
       "3519         0                     [{\"id\": 35, \"name\": \"Comedy\"}]   \n",
       "4247         1  [{\"id\": 10749, \"name\": \"Romance\"}, {\"id\": 35, ...   \n",
       "4045         0  [{\"id\": 35, \"name\": \"Comedy\"}, {\"id\": 18, \"nam...   \n",
       "4662         0                     [{\"id\": 35, \"name\": \"Comedy\"}]   \n",
       "3992         0                                                 []   \n",
       "2386         0  [{\"id\": 37, \"name\": \"Western\"}, {\"id\": 28, \"na...   \n",
       "2970  10500000  [{\"id\": 18, \"name\": \"Drama\"}, {\"id\": 35, \"name...   \n",
       "1881  25000000  [{\"id\": 18, \"name\": \"Drama\"}, {\"id\": 80, \"name...   \n",
       "2796         0  [{\"id\": 12, \"name\": \"Adventure\"}, {\"id\": 18, \"...   \n",
       "3337   6000000  [{\"id\": 18, \"name\": \"Drama\"}, {\"id\": 80, \"name...   \n",
       "\n",
       "                          homepage      id  \\\n",
       "3519                           NaN   89861   \n",
       "4247                           NaN  361505   \n",
       "4045                           NaN   78373   \n",
       "4662                           NaN   40963   \n",
       "3992                           NaN  346081   \n",
       "2386                           NaN   69848   \n",
       "2970                           NaN   88641   \n",
       "1881                           NaN     278   \n",
       "2796                           NaN   43867   \n",
       "3337  http://www.thegodfather.com/     238   \n",
       "\n",
       "                                               keywords original_language  \\\n",
       "3519  [{\"id\": 131, \"name\": \"italy\"}, {\"id\": 8250, \"n...                en   \n",
       "4247                                                 []                en   \n",
       "4045  [{\"id\": 1415, \"name\": \"small town\"}, {\"id\": 15...                en   \n",
       "4662        [{\"id\": 10183, \"name\": \"independent film\"}]                en   \n",
       "3992                                                 []                en   \n",
       "2386  [{\"id\": 6091, \"name\": \"war\"}, {\"id\": 6092, \"na...                en   \n",
       "2970                                                 []                en   \n",
       "1881  [{\"id\": 378, \"name\": \"prison\"}, {\"id\": 417, \"n...                en   \n",
       "2796  [{\"id\": 1930, \"name\": \"kidnapping\"}, {\"id\": 25...                en   \n",
       "3337  [{\"id\": 131, \"name\": \"italy\"}, {\"id\": 699, \"na...                en   \n",
       "\n",
       "                original_title  \\\n",
       "3519          Stiff Upper Lips   \n",
       "4247     Me You and Five Bucks   \n",
       "4045     Dancer, Texas Pop. 81   \n",
       "4662            Little Big Top   \n",
       "3992                 Sardaarji   \n",
       "2386            One Man's Hero   \n",
       "2970        There Goes My Baby   \n",
       "1881  The Shawshank Redemption   \n",
       "2796     The Prisoner of Zenda   \n",
       "3337             The Godfather   \n",
       "\n",
       "                                               overview  popularity  \\\n",
       "3519  Stiff Upper Lips is a broad parody of British ...    0.356495   \n",
       "4247  A womanizing yet lovable loser, Charlie, a wai...    0.094105   \n",
       "4045  Four guys, best friends, have grown up togethe...    0.376662   \n",
       "4662  An aging out of work clown returns to his smal...    0.092100   \n",
       "3992  A ghost hunter uses bottles to capture trouble...    0.296981   \n",
       "2386  One Man's Hero tells the little-known story of...    0.910529   \n",
       "2970  A group of high school seniors meets in the su...    0.037073   \n",
       "1881  Framed in the 1940s for the double murder of h...  136.747729   \n",
       "2796  An Englishman on a Ruritarian holiday must imp...    4.021389   \n",
       "3337  Spanning the years 1945 to 1955, a chronicle o...  143.659698   \n",
       "\n",
       "                                   production_companies  ...    revenue  \\\n",
       "3519                                                 []  ...          0   \n",
       "4247                                                 []  ...          0   \n",
       "4045  [{\"name\": \"HSX Films\", \"id\": 4714}, {\"name\": \"...  ...     565592   \n",
       "4662          [{\"name\": \"Fly High Films\", \"id\": 24248}]  ...          0   \n",
       "3992                                                 []  ...          0   \n",
       "2386  [{\"name\": \"Filmax\", \"id\": 3631}, {\"name\": \"Sil...  ...          0   \n",
       "2970      [{\"name\": \"Nelson Entertainment\", \"id\": 365}]  ...     123509   \n",
       "1881  [{\"name\": \"Castle Rock Entertainment\", \"id\": 97}]  ...   28341469   \n",
       "2796  [{\"name\": \"United Artists\", \"id\": 60}, {\"name\"...  ...          0   \n",
       "3337  [{\"name\": \"Paramount Pictures\", \"id\": 4}, {\"na...  ...  245066411   \n",
       "\n",
       "     runtime                                   spoken_languages    status  \\\n",
       "3519    99.0           [{\"iso_639_1\": \"en\", \"name\": \"English\"}]  Released   \n",
       "4247    90.0                                                 []  Released   \n",
       "4045    97.0           [{\"iso_639_1\": \"en\", \"name\": \"English\"}]  Released   \n",
       "4662     0.0           [{\"iso_639_1\": \"en\", \"name\": \"English\"}]   Rumored   \n",
       "3992     0.0                                                 []  Released   \n",
       "2386   121.0           [{\"iso_639_1\": \"en\", \"name\": \"English\"}]  Released   \n",
       "2970    99.0           [{\"iso_639_1\": \"en\", \"name\": \"English\"}]  Released   \n",
       "1881   142.0           [{\"iso_639_1\": \"en\", \"name\": \"English\"}]  Released   \n",
       "2796   101.0  [{\"iso_639_1\": \"es\", \"name\": \"Espa\\u00f1ol\"}, ...  Released   \n",
       "3337   175.0  [{\"iso_639_1\": \"en\", \"name\": \"English\"}, {\"iso...  Released   \n",
       "\n",
       "                                                tagline  \\\n",
       "3519                                                NaN   \n",
       "4247               A story about second, second chances   \n",
       "4045       in the middle of nowhere they had everything   \n",
       "4662                                                NaN   \n",
       "3992                                                NaN   \n",
       "2386           One man's hero is another man's traitor.   \n",
       "2970                                                NaN   \n",
       "1881  Fear can hold you prisoner. Hope can set you f...   \n",
       "2796       The most thrilling swordfight ever filmed...   \n",
       "3337                         An offer you can't refuse.   \n",
       "\n",
       "                         title vote_average vote_count  Main Genre     profit  \n",
       "3519          Stiff Upper Lips         10.0          1      Comedy          0  \n",
       "4247     Me You and Five Bucks         10.0          2     Romance         -1  \n",
       "4045     Dancer, Texas Pop. 81         10.0          1      Comedy     565592  \n",
       "4662            Little Big Top         10.0          1      Comedy          0  \n",
       "3992                 Sardaarji          9.5          2        None          0  \n",
       "2386            One Man's Hero          9.3          2     Western          0  \n",
       "2970        There Goes My Baby          8.5          2       Drama  -10376491  \n",
       "1881  The Shawshank Redemption          8.5       8205       Drama    3341469  \n",
       "2796     The Prisoner of Zenda          8.4         11   Adventure          0  \n",
       "3337             The Godfather          8.4       5893       Drama  239066411  \n",
       "\n",
       "[10 rows x 22 columns]"
      ]
     },
     "execution_count": 293,
     "metadata": {},
     "output_type": "execute_result"
    }
   ],
   "source": [
    "tmdb_top=tmdb.sort_values('vote_average',ascending=False)\n",
    "tmdb_top.head(10)"
   ]
  },
  {
   "cell_type": "code",
   "execution_count": null,
   "id": "a5fcdd7f-db5b-4acf-b751-36236a6ae528",
   "metadata": {},
   "outputs": [],
   "source": []
  }
 ],
 "metadata": {
  "kernelspec": {
   "display_name": "Python 3",
   "language": "python",
   "name": "python3"
  },
  "language_info": {
   "codemirror_mode": {
    "name": "ipython",
    "version": 3
   },
   "file_extension": ".py",
   "mimetype": "text/x-python",
   "name": "python",
   "nbconvert_exporter": "python",
   "pygments_lexer": "ipython3",
   "version": "3.8.8"
  }
 },
 "nbformat": 4,
 "nbformat_minor": 5
}
